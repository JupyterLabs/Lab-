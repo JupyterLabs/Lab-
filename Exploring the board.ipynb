{
 "cells": [
  {
   "cell_type": "markdown",
   "metadata": {},
   "source": [
    "# Exploring the board"
   ]
  },
  {
   "cell_type": "markdown",
   "metadata": {},
   "source": [
    "\n",
    "The aim of this notebook is to help you familiarize yourself with the Zynq Processing System, and the underlying OS. "
   ]
  },
  {
   "cell_type": "markdown",
   "metadata": {},
   "source": [
    "###  ARM A9 Processor Subsystem\n",
    "Note: Starting a code cell with a bang character, eg !, instructs the IPython REPL to treat the code on that line as an OS shell command\n"
   ]
  },
  {
   "cell_type": "code",
   "execution_count": 1,
   "metadata": {
    "collapsed": false
   },
   "outputs": [
    {
     "name": "stdout",
     "output_type": "stream",
     "text": [
      "processor\t: 0\r\n",
      "model name\t: ARMv7 Processor rev 0 (v7l)\r\n",
      "Features\t: half thumb fastmult vfp edsp neon vfpv3 tls vfpd32 \r\n",
      "CPU implementer\t: 0x41\r\n",
      "CPU architecture: 7\r\n",
      "CPU variant\t: 0x3\r\n",
      "CPU part\t: 0xc09\r\n",
      "CPU revision\t: 0\r\n",
      "\r\n",
      "processor\t: 1\r\n",
      "model name\t: ARMv7 Processor rev 0 (v7l)\r\n",
      "Features\t: half thumb fastmult vfp edsp neon vfpv3 tls vfpd32 \r\n",
      "CPU implementer\t: 0x41\r\n",
      "CPU architecture: 7\r\n",
      "CPU variant\t: 0x3\r\n",
      "CPU part\t: 0xc09\r\n",
      "CPU revision\t: 0\r\n",
      "\r\n",
      "Hardware\t: Xilinx Zynq Platform\r\n",
      "Revision\t: 0003\r\n",
      "Serial\t\t: 0000000000000000\r\n"
     ]
    }
   ],
   "source": [
    "!cat /proc/cpuinfo"
   ]
  },
  {
   "cell_type": "markdown",
   "metadata": {},
   "source": [
    "### Available DRAM ..."
   ]
  },
  {
   "cell_type": "code",
   "execution_count": 2,
   "metadata": {
    "collapsed": false
   },
   "outputs": [
    {
     "name": "stdout",
     "output_type": "stream",
     "text": [
      "MemTotal:         510328 kB\r\n",
      "MemFree:          169572 kB\r\n",
      "MemAvailable:     269964 kB\r\n"
     ]
    }
   ],
   "source": [
    "!cat /proc/meminfo | grep 'Mem*'"
   ]
  },
  {
   "cell_type": "markdown",
   "metadata": {},
   "source": [
    "### Wired Ethernet connection"
   ]
  },
  {
   "cell_type": "code",
   "execution_count": 3,
   "metadata": {
    "collapsed": false
   },
   "outputs": [
    {
     "name": "stdout",
     "output_type": "stream",
     "text": [
      "eth0      Link encap:Ethernet  HWaddr 00:18:3e:02:dd:48  \r\n",
      "          inet addr:10.10.10.211  Bcast:10.10.10.255  Mask:255.255.255.0\r\n",
      "          inet6 addr: fe80::218:3eff:fe02:dd48/64 Scope:Link\r\n",
      "          UP BROADCAST RUNNING MULTICAST  MTU:1500  Metric:1\r\n",
      "          RX packets:11858 errors:0 dropped:0 overruns:0 frame:0\r\n",
      "          TX packets:9683 errors:0 dropped:0 overruns:0 carrier:0\r\n",
      "          collisions:0 txqueuelen:1000 \r\n",
      "          RX bytes:2276362 (2.2 MB)  TX bytes:10587100 (10.5 MB)\r\n",
      "          Interrupt:54 Base address:0xb000 \r\n",
      "\r\n"
     ]
    }
   ],
   "source": [
    "!ifconfig eth0"
   ]
  },
  {
   "cell_type": "markdown",
   "metadata": {},
   "source": [
    "### Confirm local hostname"
   ]
  },
  {
   "cell_type": "code",
   "execution_count": 4,
   "metadata": {
    "collapsed": false
   },
   "outputs": [
    {
     "name": "stdout",
     "output_type": "stream",
     "text": [
      "pynq\r\n"
     ]
    }
   ],
   "source": [
    "!hostname"
   ]
  },
  {
   "cell_type": "markdown",
   "metadata": {},
   "source": [
    "### Operating System"
   ]
  },
  {
   "cell_type": "code",
   "execution_count": 5,
   "metadata": {
    "collapsed": false
   },
   "outputs": [
    {
     "name": "stdout",
     "output_type": "stream",
     "text": [
      "VERSION=\"15.10 (Wily Werewolf)\"\r\n",
      "VERSION_ID=\"15.10\"\r\n"
     ]
    }
   ],
   "source": [
    "!cat /etc/os-release | grep VERSION"
   ]
  }
 ],
 "metadata": {
  "kernelspec": {
   "display_name": "Python 3",
   "language": "python",
   "name": "python3"
  },
  "language_info": {
   "codemirror_mode": {
    "name": "ipython",
    "version": 3
   },
   "file_extension": ".py",
   "mimetype": "text/x-python",
   "name": "python",
   "nbconvert_exporter": "python",
   "pygments_lexer": "ipython3",
   "version": "3.4.3+"
  }
 },
 "nbformat": 4,
 "nbformat_minor": 1
}
